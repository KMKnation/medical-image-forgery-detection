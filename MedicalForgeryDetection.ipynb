{
 "cells": [
  {
   "cell_type": "markdown",
   "metadata": {},
   "source": [
    "Importing required packages"
   ]
  },
  {
   "cell_type": "code",
   "execution_count": 1,
   "metadata": {},
   "outputs": [],
   "source": [
    "import os\n",
    "import cv2\n",
    "import gc\n",
    "from skimage import color, data, restoration\n",
    "import cv2\n",
    "import numpy as np\n",
    "from skimage.restoration import estimate_sigma\n",
    "from skimage.filters import median\n",
    "import config\n",
    "import imutils\n"
   ]
  },
  {
   "cell_type": "markdown",
   "metadata": {},
   "source": [
    "adding function that process the input images"
   ]
  },
  {
   "cell_type": "code",
   "execution_count": 2,
   "metadata": {},
   "outputs": [],
   "source": [
    "def weiner_noise_reduction(img):\n",
    "    # data.astronaut()\n",
    "    img = color.rgb2gray(img)\n",
    "    from scipy.signal import convolve2d\n",
    "    psf = np.ones((5, 5)) / 25\n",
    "    img = convolve2d(img, psf, 'same')\n",
    "    img += 0.1 * img.std() * np.random.standard_normal(img.shape)\n",
    "    deconvolved_img = restoration.wiener(img, psf, 1100)\n",
    "\n",
    "    return deconvolved_img\n",
    "\n",
    "\n",
    "\n",
    "def estimate_noise(img):\n",
    "    # img = cv2.imread(image_path)\n",
    "    return estimate_sigma(img, multichannel=True, average_sigmas=True)\n",
    "\n",
    "\n",
    "def preprocess_image(image):\n",
    "    image = cv2.cvtColor(image, cv2.COLOR_BGR2RGB)\n",
    "\n",
    "    enoise = estimate_noise(image)\n",
    "    noise_free_image = weiner_noise_reduction(image)\n",
    "    gray = cv2.cvtColor(image, cv2.COLOR_RGB2GRAY)\n",
    "    fingerprint = gray - noise_free_image\n",
    "    fingerprint = fingerprint / 255\n",
    "    filtered_img = median(fingerprint, selem=None, out=None, mask=None, shift_x=False,\n",
    "                          shift_y=False, mode='nearest', cval=0.0, behavior='rank')\n",
    "    colored = cv2.cvtColor(filtered_img, cv2.COLOR_GRAY2BGR)\n",
    "    # print('-----------------')\n",
    "    # cv2.imshow('filtered_image', filtered_img)\n",
    "    # colored = cv2.cvtColor(filtered_img, cv2.COLOR_GRAY2BGR)\n",
    "    # print(colored)\n",
    "    # cv2.imshow('colored', colored)\n",
    "    return colored\n"
   ]
  },
  {
   "cell_type": "markdown",
   "metadata": {},
   "source": [
    "function to process casia one image dataset and store them into numpy matrix with file name <b>'dataset/np_casia_one_forged.npy'<b>"
   ]
  },
  {
   "cell_type": "code",
   "execution_count": 3,
   "metadata": {},
   "outputs": [],
   "source": [
    "\n",
    "def prepare_casia_one_dataset():\n",
    "    casia_one_au_arr = []\n",
    "    casia_one_forged_arr = []\n",
    "\n",
    "    # np.save('data.npy', num_arr) # save\n",
    "    for image in os.listdir(CASIA_ONE_AUTHENTIC_PATH):\n",
    "        imagepath = os.path.join(CASIA_ONE_AUTHENTIC_PATH, image)\n",
    "        cv_image = cv2.imread(imagepath)\n",
    "        print(str(image) + 'processing...')\n",
    "        h, w = cv_image.shape[:2]\n",
    "        if h != 256 and w != 384:\n",
    "            continue\n",
    "            # cv_image = imutils.resize(cv_image, width=384, height=256)\n",
    "        if h == 256 and w == 384:\n",
    "            processed_image = preprocess_image(cv_image)\n",
    "            casia_one_au_arr.append(np.array(processed_image))\n",
    "        else:\n",
    "            print('Dimention mismatch')\n",
    "\n",
    "    np_casia_one_au = np.array(casia_one_au_arr)\n",
    "    np.save('dataset/np_casia_one_au.npy', np_casia_one_au)  # save\n",
    "    print('CASIA1 Authentic Data Processed..')\n",
    "    gc.collect()\n",
    "\n",
    "    for image in os.listdir(CASIA_ONE_FORGED_PATH):\n",
    "        imagepath = os.path.join(CASIA_ONE_FORGED_PATH, image)\n",
    "        cv_image = cv2.imread(imagepath)\n",
    "        print(str(image) + 'processing...')\n",
    "        h, w = cv_image.shape[:2]\n",
    "        if h != 256 and w != 384:\n",
    "            continue\n",
    "            # cv_image = imutils.resize(cv_image, width=384, height=256)\n",
    "        if h == 256 and w == 384:\n",
    "            processed_image = preprocess_image(cv_image)\n",
    "            casia_one_forged_arr.append(np.array(processed_image))\n",
    "        else:\n",
    "            print('Dimention mismatch')\n",
    "\n",
    "    np_casia_one_forged = np.array(casia_one_forged_arr)\n",
    "    np.save('dataset/np_casia_one_forged.npy', np_casia_one_forged)  # save\n",
    "    print('CASIA1 Forged Data Processed..')\n",
    "    gc.collect()\n"
   ]
  },
  {
   "cell_type": "markdown",
   "metadata": {},
   "source": [
    "CASIA 1 database contains <b>800 authentic</b> and <b>921 forged</b> images.\n",
    "\n",
    "The size s <b>384X256</b> pixels.\n"
   ]
  },
  {
   "cell_type": "code",
   "execution_count": 4,
   "metadata": {},
   "outputs": [],
   "source": [
    "\n",
    "CASIA_ONE_AUTHENTIC_PATH = 'casia-dataset/CASIA1/Au/'\n",
    "CASIA_ONE_FORGED_PATH = 'casia-dataset/CASIA1/Sp/'"
   ]
  },
  {
   "cell_type": "markdown",
   "metadata": {},
   "source": [
    "Checking... is there already process numpy array exist or not. \n",
    "If not exists then creating new one."
   ]
  },
  {
   "cell_type": "code",
   "execution_count": 5,
   "metadata": {},
   "outputs": [
    {
     "name": "stdout",
     "output_type": "stream",
     "text": [
      "dataset/np_casia_one_forged.npy already processed...\n"
     ]
    }
   ],
   "source": [
    "filename = os.path.join('dataset', 'np_casia_one_forged.npy')\n",
    "if not os.path.exists(filename):\n",
    "    print('Processing Casia I dataset...')\n",
    "    prepare_casia_one_dataset()\n",
    "else:\n",
    "    print(filename + ' already processed...')"
   ]
  },
  {
   "cell_type": "markdown",
   "metadata": {},
   "source": [
    "The <b>CASIA 2</b> database contains more than <b>7400 authentic</b> and <b>5000 forged images</b>.\n",
    "The images are in either JPEG, TIFF, or BMP format.\n"
   ]
  },
  {
   "cell_type": "code",
   "execution_count": 6,
   "metadata": {},
   "outputs": [],
   "source": [
    "\n",
    "CASIA_TWO_AUTHENTIC_PATH = 'casia-dataset/CASIA2/Au/'\n",
    "CASIA_TWO_FORGED_PATH = 'casia-dataset/CASIA2/Tp/'"
   ]
  },
  {
   "cell_type": "markdown",
   "metadata": {},
   "source": [
    "function to process casio two dataset"
   ]
  },
  {
   "cell_type": "code",
   "execution_count": 7,
   "metadata": {},
   "outputs": [],
   "source": [
    "def prepare_casia_two_dataset():\n",
    "    casia_two_au_arr = []\n",
    "    casia_two_forged_arr = []\n",
    "\n",
    "    # np.save('data.npy', num_arr) # save\n",
    "    for image in os.listdir(CASIA_TWO_AUTHENTIC_PATH):\n",
    "        imagepath = os.path.join(CASIA_TWO_AUTHENTIC_PATH, image)\n",
    "        cv_image = cv2.imread(imagepath)\n",
    "        try:\n",
    "            print(str(image) + 'processing...')\n",
    "            h, w = cv_image.shape[:2]\n",
    "            if h != 256 and w != 384:\n",
    "                continue\n",
    "                # cv_image = imutils.resize(cv_image, width=384, height=256)\n",
    "            if h == 256 and w == 384:\n",
    "                processed_image = preprocess_image(cv_image)\n",
    "                casia_two_au_arr.append(np.array(processed_image))\n",
    "            else:\n",
    "                print('Dimention mismatch')\n",
    "        except Exception as err:\n",
    "            print(err)\n",
    "\n",
    "    np_casia_two_au = np.array(casia_two_au_arr)\n",
    "    np.save('dataset/np_casia_two_au.npy', np_casia_two_au)  # save\n",
    "    print('CASIA2 Authentic Data Processed..')\n",
    "    gc.collect()\n",
    "\n",
    "    for image in os.listdir(CASIA_TWO_FORGED_PATH):\n",
    "        imagepath = os.path.join(CASIA_TWO_FORGED_PATH, image)\n",
    "        cv_image = cv2.imread(imagepath)\n",
    "        try:\n",
    "            print(str(image) + 'processing...')\n",
    "            h, w = cv_image.shape[:2]\n",
    "            if h != 256 and w != 384:\n",
    "                continue\n",
    "                # cv_image = imutils.resize(cv_image, width=384, height=256)\n",
    "            if h == 256 and w == 384:\n",
    "                processed_image = preprocess_image(cv_image)\n",
    "                casia_two_forged_arr.append(np.array(processed_image))\n",
    "            else:\n",
    "                print('Dimention mismatch')\n",
    "        except Exception as err:\n",
    "            print(err)\n",
    "\n",
    "\n",
    "    np_casia_two_forged = np.array(casia_two_forged_arr)\n",
    "    np.save('dataset/np_casia_two_forged.npy', np_casia_two_forged)  # save\n",
    "    print('CASIA2 Forged Data Processed..')\n",
    "    gc.collect()\n"
   ]
  },
  {
   "cell_type": "markdown",
   "metadata": {},
   "source": [
    "Checking... is there already process numpy array exist or not. \n",
    "If not exists then creating new one."
   ]
  },
  {
   "cell_type": "code",
   "execution_count": 8,
   "metadata": {},
   "outputs": [
    {
     "name": "stdout",
     "output_type": "stream",
     "text": [
      "dataset/np_casia_one_forged.npy already processed...\n"
     ]
    }
   ],
   "source": [
    "ilename = os.path.join('dataset', 'np_casia_two_forged.npy')\n",
    "if not os.path.exists(filename):\n",
    "    print('Processing Casia II dataset...')\n",
    "    prepare_casia_two_dataset()\n",
    "else:\n",
    "    print(filename + ' already processed...')\n"
   ]
  },
  {
   "cell_type": "markdown",
   "metadata": {},
   "source": [
    "#### Training the keras classifier"
   ]
  },
  {
   "cell_type": "code",
   "execution_count": 9,
   "metadata": {},
   "outputs": [
    {
     "name": "stderr",
     "output_type": "stream",
     "text": [
      "Using TensorFlow backend.\n",
      "/usr/local/lib/python3.5/dist-packages/tensorflow/python/framework/dtypes.py:526: FutureWarning: Passing (type, 1) or '1type' as a synonym of type is deprecated; in a future version of numpy, it will be understood as (type, (1,)) / '(1,)type'.\n",
      "  _np_qint8 = np.dtype([(\"qint8\", np.int8, 1)])\n",
      "/usr/local/lib/python3.5/dist-packages/tensorflow/python/framework/dtypes.py:527: FutureWarning: Passing (type, 1) or '1type' as a synonym of type is deprecated; in a future version of numpy, it will be understood as (type, (1,)) / '(1,)type'.\n",
      "  _np_quint8 = np.dtype([(\"quint8\", np.uint8, 1)])\n",
      "/usr/local/lib/python3.5/dist-packages/tensorflow/python/framework/dtypes.py:528: FutureWarning: Passing (type, 1) or '1type' as a synonym of type is deprecated; in a future version of numpy, it will be understood as (type, (1,)) / '(1,)type'.\n",
      "  _np_qint16 = np.dtype([(\"qint16\", np.int16, 1)])\n",
      "/usr/local/lib/python3.5/dist-packages/tensorflow/python/framework/dtypes.py:529: FutureWarning: Passing (type, 1) or '1type' as a synonym of type is deprecated; in a future version of numpy, it will be understood as (type, (1,)) / '(1,)type'.\n",
      "  _np_quint16 = np.dtype([(\"quint16\", np.uint16, 1)])\n",
      "/usr/local/lib/python3.5/dist-packages/tensorflow/python/framework/dtypes.py:530: FutureWarning: Passing (type, 1) or '1type' as a synonym of type is deprecated; in a future version of numpy, it will be understood as (type, (1,)) / '(1,)type'.\n",
      "  _np_qint32 = np.dtype([(\"qint32\", np.int32, 1)])\n",
      "/usr/local/lib/python3.5/dist-packages/tensorflow/python/framework/dtypes.py:535: FutureWarning: Passing (type, 1) or '1type' as a synonym of type is deprecated; in a future version of numpy, it will be understood as (type, (1,)) / '(1,)type'.\n",
      "  np_resource = np.dtype([(\"resource\", np.ubyte, 1)])\n"
     ]
    }
   ],
   "source": [
    "import keras\n",
    "from keras import Model, Sequential, optimizers, applications\n",
    "from keras.applications import ResNet50\n",
    "from keras.layers import GlobalAveragePooling2D, Dropout, Dense, Flatten\n",
    "from keras_applications import resnet50\n",
    "from keras import backend as K\n",
    "import matplotlib.pyplot as plt\n",
    "import numpy as np\n",
    "from sklearn.metrics import confusion_matrix\n",
    "from sklearn.model_selection import train_test_split\n",
    "import config"
   ]
  },
  {
   "cell_type": "markdown",
   "metadata": {},
   "source": [
    "\n",
    "build the VGG16 network"
   ]
  },
  {
   "cell_type": "code",
   "execution_count": 10,
   "metadata": {},
   "outputs": [
    {
     "name": "stdout",
     "output_type": "stream",
     "text": [
      "WARNING:tensorflow:From /usr/local/lib/python3.5/dist-packages/tensorflow/python/framework/op_def_library.py:263: colocate_with (from tensorflow.python.framework.ops) is deprecated and will be removed in a future version.\n",
      "Instructions for updating:\n",
      "Colocations handled automatically by placer.\n"
     ]
    }
   ],
   "source": [
    "img_height = 256\n",
    "img_width = 384\n",
    "\n",
    "# build the VGG16 network\n",
    "model = applications.VGG16(weights='imagenet', include_top=False, input_shape=(img_height, img_width, 3))"
   ]
  },
  {
   "cell_type": "markdown",
   "metadata": {},
   "source": [
    "build a classifier model to put on top of the convolutional model"
   ]
  },
  {
   "cell_type": "code",
   "execution_count": 11,
   "metadata": {},
   "outputs": [
    {
     "name": "stdout",
     "output_type": "stream",
     "text": [
      "WARNING:tensorflow:From /usr/local/lib/python3.5/dist-packages/keras/backend/tensorflow_backend.py:3445: calling dropout (from tensorflow.python.ops.nn_ops) with keep_prob is deprecated and will be removed in a future version.\n",
      "Instructions for updating:\n",
      "Please use `rate` instead of `keep_prob`. Rate should be set to `rate = 1 - keep_prob`.\n"
     ]
    }
   ],
   "source": [
    "top_model = Sequential()\n",
    "top_model.add(Flatten(input_shape=model.output_shape[1:]))\n",
    "top_model.add(Dense(256, activation='relu'))\n",
    "top_model.add(Dropout(0.5))\n",
    "top_model.add(Dense(1, activation='sigmoid'))"
   ]
  },
  {
   "cell_type": "markdown",
   "metadata": {},
   "source": [
    "add the model on top of the convolutional base"
   ]
  },
  {
   "cell_type": "code",
   "execution_count": 12,
   "metadata": {},
   "outputs": [],
   "source": [
    "# model.add(top_model) this throws error alternative is below\n",
    "\n",
    "new_model = Sequential() #new model\n",
    "for layer in model.layers:\n",
    "    new_model.add(layer)\n",
    "\n",
    "new_model.add(top_model) # now this works"
   ]
  },
  {
   "cell_type": "markdown",
   "metadata": {},
   "source": [
    "set the first 25 layers (up to the last conv block) to non-trainable (weights will not be updated)\n",
    "\n",
    "LOCK THE TOP CONV LAYERS"
   ]
  },
  {
   "cell_type": "code",
   "execution_count": 13,
   "metadata": {},
   "outputs": [
    {
     "name": "stdout",
     "output_type": "stream",
     "text": [
      "Model loaded.\n",
      "_________________________________________________________________\n",
      "Layer (type)                 Output Shape              Param #   \n",
      "=================================================================\n",
      "block1_conv1 (Conv2D)        (None, 256, 384, 64)      1792      \n",
      "_________________________________________________________________\n",
      "block1_conv2 (Conv2D)        (None, 256, 384, 64)      36928     \n",
      "_________________________________________________________________\n",
      "block1_pool (MaxPooling2D)   (None, 128, 192, 64)      0         \n",
      "_________________________________________________________________\n",
      "block2_conv1 (Conv2D)        (None, 128, 192, 128)     73856     \n",
      "_________________________________________________________________\n",
      "block2_conv2 (Conv2D)        (None, 128, 192, 128)     147584    \n",
      "_________________________________________________________________\n",
      "block2_pool (MaxPooling2D)   (None, 64, 96, 128)       0         \n",
      "_________________________________________________________________\n",
      "block3_conv1 (Conv2D)        (None, 64, 96, 256)       295168    \n",
      "_________________________________________________________________\n",
      "block3_conv2 (Conv2D)        (None, 64, 96, 256)       590080    \n",
      "_________________________________________________________________\n",
      "block3_conv3 (Conv2D)        (None, 64, 96, 256)       590080    \n",
      "_________________________________________________________________\n",
      "block3_pool (MaxPooling2D)   (None, 32, 48, 256)       0         \n",
      "_________________________________________________________________\n",
      "block4_conv1 (Conv2D)        (None, 32, 48, 512)       1180160   \n",
      "_________________________________________________________________\n",
      "block4_conv2 (Conv2D)        (None, 32, 48, 512)       2359808   \n",
      "_________________________________________________________________\n",
      "block4_conv3 (Conv2D)        (None, 32, 48, 512)       2359808   \n",
      "_________________________________________________________________\n",
      "block4_pool (MaxPooling2D)   (None, 16, 24, 512)       0         \n",
      "_________________________________________________________________\n",
      "block5_conv1 (Conv2D)        (None, 16, 24, 512)       2359808   \n",
      "_________________________________________________________________\n",
      "block5_conv2 (Conv2D)        (None, 16, 24, 512)       2359808   \n",
      "_________________________________________________________________\n",
      "block5_conv3 (Conv2D)        (None, 16, 24, 512)       2359808   \n",
      "_________________________________________________________________\n",
      "block5_pool (MaxPooling2D)   (None, 8, 12, 512)        0         \n",
      "_________________________________________________________________\n",
      "sequential_1 (Sequential)    (None, 1)                 12583425  \n",
      "=================================================================\n",
      "Total params: 27,298,113\n",
      "Trainable params: 17,303,041\n",
      "Non-trainable params: 9,995,072\n",
      "_________________________________________________________________\n",
      "None\n"
     ]
    }
   ],
   "source": [
    "for layer in new_model.layers[:15]:\n",
    "    layer.trainable = False\n",
    "\n",
    "print('Model loaded.')\n",
    "\n",
    "print(new_model.summary())"
   ]
  }
 ],
 "metadata": {
  "kernelspec": {
   "display_name": "Python 3",
   "language": "python",
   "name": "python3"
  },
  "language_info": {
   "codemirror_mode": {
    "name": "ipython",
    "version": 3
   },
   "file_extension": ".py",
   "mimetype": "text/x-python",
   "name": "python",
   "nbconvert_exporter": "python",
   "pygments_lexer": "ipython3",
   "version": "3.5.2"
  }
 },
 "nbformat": 4,
 "nbformat_minor": 2
}
