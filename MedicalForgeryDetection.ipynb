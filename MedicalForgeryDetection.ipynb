{
 "cells": [
  {
   "cell_type": "markdown",
   "metadata": {},
   "source": [
    "Importing required packages"
   ]
  },
  {
   "cell_type": "code",
   "execution_count": 17,
   "metadata": {},
   "outputs": [],
   "source": [
    "import os\n",
    "import cv2\n",
    "import gc\n",
    "from skimage import color, data, restoration\n",
    "import cv2\n",
    "import numpy as np\n",
    "from skimage.restoration import estimate_sigma\n",
    "from skimage.filters import median\n",
    "import config\n",
    "import imutils\n",
    "import warnings\n",
    "warnings.filterwarnings('ignore')\n"
   ]
  },
  {
   "cell_type": "markdown",
   "metadata": {},
   "source": [
    "adding function that process the input images"
   ]
  },
  {
   "cell_type": "code",
   "execution_count": 18,
   "metadata": {},
   "outputs": [],
   "source": [
    "def weiner_noise_reduction(img):\n",
    "    # data.astronaut()\n",
    "    img = color.rgb2gray(img)\n",
    "    from scipy.signal import convolve2d\n",
    "    psf = np.ones((5, 5)) / 25\n",
    "    img = convolve2d(img, psf, 'same')\n",
    "    img += 0.1 * img.std() * np.random.standard_normal(img.shape)\n",
    "    deconvolved_img = restoration.wiener(img, psf, 1100)\n",
    "\n",
    "    return deconvolved_img\n",
    "\n",
    "\n",
    "\n",
    "def estimate_noise(img):\n",
    "    # img = cv2.imread(image_path)\n",
    "    return estimate_sigma(img, multichannel=True, average_sigmas=True)\n",
    "\n",
    "\n",
    "def preprocess_image(image):\n",
    "    image = cv2.cvtColor(image, cv2.COLOR_BGR2RGB)\n",
    "\n",
    "    enoise = estimate_noise(image)\n",
    "    noise_free_image = weiner_noise_reduction(image)\n",
    "    gray = cv2.cvtColor(image, cv2.COLOR_RGB2GRAY)\n",
    "    fingerprint = gray - noise_free_image\n",
    "    fingerprint = fingerprint / 255\n",
    "    filtered_img = median(fingerprint, selem=None, out=None, mask=None, shift_x=False,\n",
    "                          shift_y=False, mode='nearest', cval=0.0, behavior='rank')\n",
    "    colored = cv2.cvtColor(filtered_img, cv2.COLOR_GRAY2BGR)\n",
    "    # print('-----------------')\n",
    "    # cv2.imshow('filtered_image', filtered_img)\n",
    "    # colored = cv2.cvtColor(filtered_img, cv2.COLOR_GRAY2BGR)\n",
    "    # print(colored)\n",
    "    # cv2.imshow('colored', colored)\n",
    "    return colored\n"
   ]
  },
  {
   "cell_type": "markdown",
   "metadata": {},
   "source": [
    "function to process casia one image dataset and store them into numpy matrix with file name <b>'dataset/np_casia_one_forged.npy'<b>"
   ]
  },
  {
   "cell_type": "code",
   "execution_count": 19,
   "metadata": {},
   "outputs": [],
   "source": [
    "\n",
    "def prepare_casia_one_dataset():\n",
    "    casia_one_au_arr = []\n",
    "    casia_one_forged_arr = []\n",
    "\n",
    "    # np.save('data.npy', num_arr) # save\n",
    "    for image in os.listdir(CASIA_ONE_AUTHENTIC_PATH):\n",
    "        imagepath = os.path.join(CASIA_ONE_AUTHENTIC_PATH, image)\n",
    "        cv_image = cv2.imread(imagepath)\n",
    "        print(str(image) + 'processing...')\n",
    "        h, w = cv_image.shape[:2]\n",
    "        if h != 256 and w != 384:\n",
    "            continue\n",
    "            # cv_image = imutils.resize(cv_image, width=384, height=256)\n",
    "        if h == 256 and w == 384:\n",
    "            processed_image = preprocess_image(cv_image)\n",
    "            casia_one_au_arr.append(np.array(processed_image))\n",
    "        else:\n",
    "            print('Dimention mismatch')\n",
    "\n",
    "    np_casia_one_au = np.array(casia_one_au_arr)\n",
    "    np.save('dataset/np_casia_one_au.npy', np_casia_one_au)  # save\n",
    "    print('CASIA1 Authentic Data Processed..')\n",
    "    gc.collect()\n",
    "\n",
    "    for image in os.listdir(CASIA_ONE_FORGED_PATH):\n",
    "        imagepath = os.path.join(CASIA_ONE_FORGED_PATH, image)\n",
    "        cv_image = cv2.imread(imagepath)\n",
    "        print(str(image) + 'processing...')\n",
    "        h, w = cv_image.shape[:2]\n",
    "        if h != 256 and w != 384:\n",
    "            continue\n",
    "            # cv_image = imutils.resize(cv_image, width=384, height=256)\n",
    "        if h == 256 and w == 384:\n",
    "            processed_image = preprocess_image(cv_image)\n",
    "            casia_one_forged_arr.append(np.array(processed_image))\n",
    "        else:\n",
    "            print('Dimention mismatch')\n",
    "\n",
    "    np_casia_one_forged = np.array(casia_one_forged_arr)\n",
    "    np.save('dataset/np_casia_one_forged.npy', np_casia_one_forged)  # save\n",
    "    print('CASIA1 Forged Data Processed..')\n",
    "    gc.collect()\n"
   ]
  },
  {
   "cell_type": "markdown",
   "metadata": {},
   "source": [
    "CASIA 1 database contains <b>800 authentic</b> and <b>921 forged</b> images.\n",
    "\n",
    "The size s <b>384X256</b> pixels.\n"
   ]
  },
  {
   "cell_type": "code",
   "execution_count": 20,
   "metadata": {},
   "outputs": [],
   "source": [
    "\n",
    "CASIA_ONE_AUTHENTIC_PATH = 'casia-dataset/CASIA1/Au/'\n",
    "CASIA_ONE_FORGED_PATH = 'casia-dataset/CASIA1/Sp/'"
   ]
  },
  {
   "cell_type": "markdown",
   "metadata": {},
   "source": [
    "Checking... is there already process numpy array exist or not. \n",
    "If not exists then creating new one."
   ]
  },
  {
   "cell_type": "code",
   "execution_count": 21,
   "metadata": {},
   "outputs": [
    {
     "name": "stdout",
     "output_type": "stream",
     "text": [
      "dataset/np_casia_one_forged.npy already processed...\n"
     ]
    }
   ],
   "source": [
    "filename = os.path.join('dataset', 'np_casia_one_forged.npy')\n",
    "if not os.path.exists(filename):\n",
    "    print('Processing Casia I dataset...')\n",
    "    prepare_casia_one_dataset()\n",
    "else:\n",
    "    print(filename + ' already processed...')"
   ]
  },
  {
   "cell_type": "markdown",
   "metadata": {},
   "source": [
    "The <b>CASIA 2</b> database contains more than <b>7400 authentic</b> and <b>5000 forged images</b>.\n",
    "The images are in either JPEG, TIFF, or BMP format.\n"
   ]
  },
  {
   "cell_type": "code",
   "execution_count": 22,
   "metadata": {},
   "outputs": [],
   "source": [
    "\n",
    "CASIA_TWO_AUTHENTIC_PATH = 'casia-dataset/CASIA2/Au/'\n",
    "CASIA_TWO_FORGED_PATH = 'casia-dataset/CASIA2/Tp/'"
   ]
  },
  {
   "cell_type": "markdown",
   "metadata": {},
   "source": [
    "function to process casio two dataset"
   ]
  },
  {
   "cell_type": "code",
   "execution_count": 23,
   "metadata": {},
   "outputs": [],
   "source": [
    "def prepare_casia_two_dataset():\n",
    "    casia_two_au_arr = []\n",
    "    casia_two_forged_arr = []\n",
    "\n",
    "    # np.save('data.npy', num_arr) # save\n",
    "    for image in os.listdir(CASIA_TWO_AUTHENTIC_PATH):\n",
    "        imagepath = os.path.join(CASIA_TWO_AUTHENTIC_PATH, image)\n",
    "        cv_image = cv2.imread(imagepath)\n",
    "        try:\n",
    "            print(str(image) + 'processing...')\n",
    "            h, w = cv_image.shape[:2]\n",
    "            if h != 256 and w != 384:\n",
    "                continue\n",
    "                # cv_image = imutils.resize(cv_image, width=384, height=256)\n",
    "            if h == 256 and w == 384:\n",
    "                processed_image = preprocess_image(cv_image)\n",
    "                casia_two_au_arr.append(np.array(processed_image))\n",
    "            else:\n",
    "                print('Dimention mismatch')\n",
    "        except Exception as err:\n",
    "            print(err)\n",
    "\n",
    "    np_casia_two_au = np.array(casia_two_au_arr)\n",
    "    np.save('dataset/np_casia_two_au.npy', np_casia_two_au)  # save\n",
    "    print('CASIA2 Authentic Data Processed..')\n",
    "    gc.collect()\n",
    "\n",
    "    for image in os.listdir(CASIA_TWO_FORGED_PATH):\n",
    "        imagepath = os.path.join(CASIA_TWO_FORGED_PATH, image)\n",
    "        cv_image = cv2.imread(imagepath)\n",
    "        try:\n",
    "            print(str(image) + 'processing...')\n",
    "            h, w = cv_image.shape[:2]\n",
    "            if h != 256 and w != 384:\n",
    "                continue\n",
    "                # cv_image = imutils.resize(cv_image, width=384, height=256)\n",
    "            if h == 256 and w == 384:\n",
    "                processed_image = preprocess_image(cv_image)\n",
    "                casia_two_forged_arr.append(np.array(processed_image))\n",
    "            else:\n",
    "                print('Dimention mismatch')\n",
    "        except Exception as err:\n",
    "            print(err)\n",
    "\n",
    "\n",
    "    np_casia_two_forged = np.array(casia_two_forged_arr)\n",
    "    np.save('dataset/np_casia_two_forged.npy', np_casia_two_forged)  # save\n",
    "    print('CASIA2 Forged Data Processed..')\n",
    "    gc.collect()\n"
   ]
  },
  {
   "cell_type": "markdown",
   "metadata": {},
   "source": [
    "Checking... is there already process numpy array exist or not. \n",
    "If not exists then creating new one."
   ]
  },
  {
   "cell_type": "code",
   "execution_count": 24,
   "metadata": {},
   "outputs": [
    {
     "name": "stdout",
     "output_type": "stream",
     "text": [
      "dataset/np_casia_two_forged.npy already processed...\n"
     ]
    }
   ],
   "source": [
    "filename = os.path.join('dataset', 'np_casia_two_forged.npy')\n",
    "if not os.path.exists(filename):\n",
    "    print('Processing Casia II dataset...')\n",
    "    prepare_casia_two_dataset()\n",
    "else:\n",
    "    print(filename + ' already processed...')\n"
   ]
  },
  {
   "cell_type": "code",
   "execution_count": null,
   "metadata": {},
   "outputs": [],
   "source": []
  },
  {
   "cell_type": "markdown",
   "metadata": {},
   "source": [
    "#### Training the keras classifier"
   ]
  },
  {
   "cell_type": "code",
   "execution_count": 25,
   "metadata": {},
   "outputs": [],
   "source": [
    "import keras\n",
    "from keras import Model, Sequential, optimizers, applications\n",
    "from keras.applications import ResNet50\n",
    "from keras.layers import GlobalAveragePooling2D, Dropout, Dense, Flatten\n",
    "from keras_applications import resnet50\n",
    "from keras import backend as K\n",
    "import matplotlib.pyplot as plt\n",
    "import numpy as np\n",
    "from sklearn.metrics import confusion_matrix\n",
    "from sklearn.model_selection import train_test_split\n",
    "import config"
   ]
  },
  {
   "cell_type": "code",
   "execution_count": 26,
   "metadata": {},
   "outputs": [],
   "source": [
    "\n",
    "XAuthenticate = list(np.load(config.np_casia_one_au_path))\n",
    "yAuthenticate = list(np.zeros(len(XAuthenticate), dtype=np.uint8))\n",
    "XForged = list(np.load(config.np_casia_one_forged_path))\n",
    "yForged = list(np.ones(len(XForged), dtype=np.uint8))\n",
    "\n",
    "X = np.array(XAuthenticate + XForged)\n",
    "y = np.array(yAuthenticate + yForged, dtype=np.int8)\n",
    "\n",
    "x_train, x_test, y_train, y_test = train_test_split(X, y, test_size=0.2, stratify=y, shuffle=True)"
   ]
  },
  {
   "cell_type": "markdown",
   "metadata": {},
   "source": [
    "\n",
    "build the VGG16 network"
   ]
  },
  {
   "cell_type": "code",
   "execution_count": 27,
   "metadata": {},
   "outputs": [],
   "source": [
    "img_height = 256\n",
    "img_width = 384\n",
    "\n",
    "# build the VGG16 network\n",
    "model = applications.VGG16(weights='imagenet', include_top=False, input_shape=(img_height, img_width, 3))"
   ]
  },
  {
   "cell_type": "markdown",
   "metadata": {},
   "source": [
    "build a classifier model to put on top of the convolutional model"
   ]
  },
  {
   "cell_type": "code",
   "execution_count": 28,
   "metadata": {},
   "outputs": [],
   "source": [
    "top_model = Sequential()\n",
    "top_model.add(Flatten(input_shape=model.output_shape[1:]))\n",
    "top_model.add(Dense(256, activation='relu'))\n",
    "top_model.add(Dropout(0.5))\n",
    "top_model.add(Dense(1, activation='sigmoid'))"
   ]
  },
  {
   "cell_type": "markdown",
   "metadata": {},
   "source": [
    "add the model on top of the convolutional base"
   ]
  },
  {
   "cell_type": "code",
   "execution_count": 29,
   "metadata": {},
   "outputs": [],
   "source": [
    "# model.add(top_model) this throws error alternative is below\n",
    "\n",
    "new_model = Sequential() #new model\n",
    "for layer in model.layers:\n",
    "    new_model.add(layer)\n",
    "\n",
    "new_model.add(top_model) # now this works"
   ]
  },
  {
   "cell_type": "markdown",
   "metadata": {},
   "source": [
    "set the first 25 layers (up to the last conv block) to non-trainable (weights will not be updated)\n",
    "\n",
    "LOCK THE TOP CONV LAYERS"
   ]
  },
  {
   "cell_type": "code",
   "execution_count": 30,
   "metadata": {},
   "outputs": [
    {
     "name": "stdout",
     "output_type": "stream",
     "text": [
      "Model loaded.\n",
      "Model: \"sequential_4\"\n",
      "_________________________________________________________________\n",
      "Layer (type)                 Output Shape              Param #   \n",
      "=================================================================\n",
      "block1_conv1 (Conv2D)        (None, 256, 384, 64)      1792      \n",
      "_________________________________________________________________\n",
      "block1_conv2 (Conv2D)        (None, 256, 384, 64)      36928     \n",
      "_________________________________________________________________\n",
      "block1_pool (MaxPooling2D)   (None, 128, 192, 64)      0         \n",
      "_________________________________________________________________\n",
      "block2_conv1 (Conv2D)        (None, 128, 192, 128)     73856     \n",
      "_________________________________________________________________\n",
      "block2_conv2 (Conv2D)        (None, 128, 192, 128)     147584    \n",
      "_________________________________________________________________\n",
      "block2_pool (MaxPooling2D)   (None, 64, 96, 128)       0         \n",
      "_________________________________________________________________\n",
      "block3_conv1 (Conv2D)        (None, 64, 96, 256)       295168    \n",
      "_________________________________________________________________\n",
      "block3_conv2 (Conv2D)        (None, 64, 96, 256)       590080    \n",
      "_________________________________________________________________\n",
      "block3_conv3 (Conv2D)        (None, 64, 96, 256)       590080    \n",
      "_________________________________________________________________\n",
      "block3_pool (MaxPooling2D)   (None, 32, 48, 256)       0         \n",
      "_________________________________________________________________\n",
      "block4_conv1 (Conv2D)        (None, 32, 48, 512)       1180160   \n",
      "_________________________________________________________________\n",
      "block4_conv2 (Conv2D)        (None, 32, 48, 512)       2359808   \n",
      "_________________________________________________________________\n",
      "block4_conv3 (Conv2D)        (None, 32, 48, 512)       2359808   \n",
      "_________________________________________________________________\n",
      "block4_pool (MaxPooling2D)   (None, 16, 24, 512)       0         \n",
      "_________________________________________________________________\n",
      "block5_conv1 (Conv2D)        (None, 16, 24, 512)       2359808   \n",
      "_________________________________________________________________\n",
      "block5_conv2 (Conv2D)        (None, 16, 24, 512)       2359808   \n",
      "_________________________________________________________________\n",
      "block5_conv3 (Conv2D)        (None, 16, 24, 512)       2359808   \n",
      "_________________________________________________________________\n",
      "block5_pool (MaxPooling2D)   (None, 8, 12, 512)        0         \n",
      "_________________________________________________________________\n",
      "sequential_3 (Sequential)    (None, 1)                 12583425  \n",
      "=================================================================\n",
      "Total params: 27,298,113\n",
      "Trainable params: 17,303,041\n",
      "Non-trainable params: 9,995,072\n",
      "_________________________________________________________________\n",
      "None\n"
     ]
    }
   ],
   "source": [
    "for layer in new_model.layers[:15]:\n",
    "    layer.trainable = False\n",
    "\n",
    "print('Model loaded.')\n",
    "\n",
    "print(new_model.summary())"
   ]
  },
  {
   "cell_type": "code",
   "execution_count": 31,
   "metadata": {},
   "outputs": [],
   "source": [
    "# model_aug.load_weights('99 % accurate model.h5')\n",
    "# compile the model with a SGD/momentum optimizer\n",
    "# and a very slow learning rate.\n",
    "new_model.compile(loss='binary_crossentropy',\n",
    "              optimizer=optimizers.SGD(lr=1e-4, momentum=0.9),\n",
    "              metrics=['accuracy'])\n"
   ]
  },
  {
   "cell_type": "code",
   "execution_count": null,
   "metadata": {
    "scrolled": true
   },
   "outputs": [
    {
     "name": "stdout",
     "output_type": "stream",
     "text": [
      "Epoch 1/10\n",
      " 425/1177 [=========>....................] - ETA: 26:42 - loss: 7.2560 - accuracy: 0.5365"
     ]
    }
   ],
   "source": [
    "\n",
    "new_model.fit(x_train, y_train,\n",
    "          epochs=10,\n",
    "          batch_size=5)\n",
    "\n",
    "new_model.evaluate(x_test, y_test, verbose=0)\n",
    "\n",
    "y_pred = new_model.predict_classes(x_test)\n",
    "\n",
    "plt.clf()"
   ]
  },
  {
   "cell_type": "code",
   "execution_count": null,
   "metadata": {},
   "outputs": [],
   "source": [
    "print(confusion_matrix(y_test, y_pred))"
   ]
  },
  {
   "cell_type": "code",
   "execution_count": null,
   "metadata": {},
   "outputs": [],
   "source": [
    "# new_model.save(filepath='casia2_model.h5')\n",
    "# new_model.save_weights('bottleneck_fc_model.h5')"
   ]
  }
 ],
 "metadata": {
  "kernelspec": {
   "display_name": "Python 3",
   "language": "python",
   "name": "python3"
  },
  "language_info": {
   "codemirror_mode": {
    "name": "ipython",
    "version": 3
   },
   "file_extension": ".py",
   "mimetype": "text/x-python",
   "name": "python",
   "nbconvert_exporter": "python",
   "pygments_lexer": "ipython3",
   "version": "3.5.2"
  }
 },
 "nbformat": 4,
 "nbformat_minor": 2
}
