{
 "cells": [
  {
   "cell_type": "code",
   "execution_count": 24,
   "metadata": {},
   "outputs": [],
   "source": [
    "import numpy as np\n",
    "import os\n",
    "from sklearn.model_selection import train_test_split\n",
    "import tensorflow as tf\n",
    "\n",
    "import os\n",
    "import cv2\n",
    "import gc\n",
    "from skimage import color, data, restoration\n",
    "import cv2\n",
    "import numpy as np\n",
    "from skimage.restoration import estimate_sigma\n",
    "from skimage.filters import median\n",
    "import config\n",
    "import imutils\n",
    "import warnings\n",
    "warnings.filterwarnings('ignore')\n"
   ]
  },
  {
   "cell_type": "code",
   "execution_count": 25,
   "metadata": {},
   "outputs": [],
   "source": [
    "def weiner_noise_reduction(img):\n",
    "    # data.astronaut()\n",
    "    img = color.rgb2gray(img)\n",
    "    from scipy.signal import convolve2d\n",
    "    psf = np.ones((5, 5)) / 25\n",
    "    img = convolve2d(img, psf, 'same')\n",
    "    img += 0.1 * img.std() * np.random.standard_normal(img.shape)\n",
    "    deconvolved_img = restoration.wiener(img, psf, 1100)\n",
    "\n",
    "    return deconvolved_img\n",
    "\n",
    "\n",
    "\n",
    "def estimate_noise(img):\n",
    "    # img = cv2.imread(image_path)\n",
    "    return estimate_sigma(img, multichannel=True, average_sigmas=True)\n",
    "\n",
    "\n",
    "def preprocess_image(image):\n",
    "    image = cv2.cvtColor(image, cv2.COLOR_BGR2RGB)\n",
    "\n",
    "    enoise = estimate_noise(image)\n",
    "    noise_free_image = weiner_noise_reduction(image)\n",
    "    gray = cv2.cvtColor(image, cv2.COLOR_RGB2GRAY)\n",
    "    fingerprint = gray - noise_free_image\n",
    "    fingerprint = fingerprint / 255\n",
    "    filtered_img = median(fingerprint, selem=None, out=None, mask=None, shift_x=False,\n",
    "                          shift_y=False, mode='nearest', cval=0.0, behavior='rank')\n",
    "    colored = cv2.cvtColor(filtered_img, cv2.COLOR_GRAY2BGR)\n",
    "    # print('-----------------')\n",
    "    # cv2.imshow('filtered_image', filtered_img)\n",
    "    # colored = cv2.cvtColor(filtered_img, cv2.COLOR_GRAY2BGR)\n",
    "    # print(colored)\n",
    "    # cv2.imshow('colored', colored)\n",
    "    return colored\n"
   ]
  },
  {
   "cell_type": "code",
   "execution_count": 26,
   "metadata": {},
   "outputs": [],
   "source": [
    "import keras\n",
    "from keras import Model, Sequential, optimizers, applications\n",
    "from keras.applications import ResNet50\n",
    "from keras.layers import GlobalAveragePooling2D, Dropout, Dense, Flatten\n",
    "from keras_applications import resnet50\n",
    "from keras import backend as K\n",
    "import matplotlib.pyplot as plt\n",
    "import numpy as np\n",
    "from sklearn.metrics import confusion_matrix\n",
    "from sklearn.model_selection import train_test_split\n",
    "import config"
   ]
  },
  {
   "cell_type": "code",
   "execution_count": 27,
   "metadata": {},
   "outputs": [],
   "source": [
    "\n",
    "XAuthenticate = list(np.load('CDDSM/np_ddsm_normal.npy'))\n",
    "yAuthenticate = list(np.zeros(len(XAuthenticate), dtype=np.uint8))\n",
    "XForged = list(np.load('CDDSM/np_ddsm_abnormal.npy'))\n",
    "yForged = list(np.ones(len(XForged), dtype=np.uint8))\n",
    "\n",
    "X = np.array(XAuthenticate + XForged)\n",
    "y = np.array(yAuthenticate + yForged, dtype=np.int8)\n",
    "\n",
    "x_train, x_test, y_train, y_test = train_test_split(X, y, test_size=0.2, stratify=y, shuffle=True)"
   ]
  },
  {
   "cell_type": "code",
   "execution_count": 28,
   "metadata": {},
   "outputs": [],
   "source": [
    "DDSM_DATASET = 'CDDSM/figment.csee.usf.edu/pub/DDSM/cases'"
   ]
  },
  {
   "cell_type": "code",
   "execution_count": 29,
   "metadata": {},
   "outputs": [],
   "source": [
    "NORMAL = os.path.join(DDSM_DATASET, 'normals')\n",
    "ABNORMAL = os.path.join(DDSM_DATASET, 'cancers')"
   ]
  },
  {
   "cell_type": "code",
   "execution_count": 30,
   "metadata": {},
   "outputs": [],
   "source": [
    "import glob\n",
    "import random\n",
    "normalGlob = glob.glob(NORMAL+\"/*/*/*.jpg\")\n",
    "abNormalGlob = glob.glob(ABNORMAL+\"/*/*/*.jpg\")\n"
   ]
  },
  {
   "cell_type": "code",
   "execution_count": 31,
   "metadata": {},
   "outputs": [
    {
     "name": "stdout",
     "output_type": "stream",
     "text": [
      "911\n"
     ]
    }
   ],
   "source": [
    "print(len(normalGlob))"
   ]
  },
  {
   "cell_type": "code",
   "execution_count": 32,
   "metadata": {},
   "outputs": [
    {
     "name": "stdout",
     "output_type": "stream",
     "text": [
      "628\n"
     ]
    }
   ],
   "source": [
    "print(len(abNormalGlob))"
   ]
  },
  {
   "cell_type": "code",
   "execution_count": 33,
   "metadata": {},
   "outputs": [
    {
     "data": {
      "text/plain": [
       "['CDDSM/figment.csee.usf.edu/pub/DDSM/cases/normals/normal_02/case0306/A_0306_1.RIGHT_MLO.jpg',\n",
       " 'CDDSM/figment.csee.usf.edu/pub/DDSM/cases/normals/normal_02/case0306/A_0306_1.LEFT_MLO.jpg']"
      ]
     },
     "execution_count": 33,
     "metadata": {},
     "output_type": "execute_result"
    }
   ],
   "source": [
    "normalGlob[:2]"
   ]
  },
  {
   "cell_type": "code",
   "execution_count": 34,
   "metadata": {},
   "outputs": [],
   "source": [
    "def data_generator(normalGlob, abNormalGlob, BATCH_SIZE):\n",
    "    while True:\n",
    "        images = []\n",
    "        labels = []\n",
    "        img_height = 256\n",
    "        img_width = 384\n",
    "        random.shuffle(normalGlob)\n",
    "        random.shuffle(abNormalGlob)\n",
    "\n",
    "        if BATCH_SIZE == None:\n",
    "            BATCH_SIZE = 32\n",
    "\n",
    "        NORMAL_RATIO = int(BATCH_SIZE / 2)\n",
    "        ABNORMAL_RATIO = int(BATCH_SIZE - NORMAL_RATIO)\n",
    "\n",
    "        for imagepath in normalGlob[:NORMAL_RATIO]:\n",
    "            image = cv2.imread(imagepath)\n",
    "            image = cv2.resize(image, (img_width, img_height))\n",
    "            image = preprocess_image(image)\n",
    "            image = image / 255\n",
    "            images.append(image)\n",
    "            labels.append(0)\n",
    "\n",
    "        for imagepath in normalGlob[:ABNORMAL_RATIO]:\n",
    "            image = cv2.imread(imagepath)\n",
    "            image = cv2.resize(image, (img_width, img_height))\n",
    "            image = preprocess_image(image)\n",
    "            image = image / 255\n",
    "            images.append(image)\n",
    "            labels.append(1)\n",
    "\n",
    "        temp = list(zip(images, labels)) \n",
    "        random.shuffle(temp) \n",
    "        images, labels = zip(*temp)\n",
    "    #     print(np.array(images).shape)\n",
    "    #     print(np.array(labels).shape)\n",
    "\n",
    "        yield np.array(images), np.array(labels)"
   ]
  },
  {
   "cell_type": "code",
   "execution_count": 35,
   "metadata": {},
   "outputs": [
    {
     "data": {
      "text/plain": [
       "<generator object data_generator at 0x7fb2902a4360>"
      ]
     },
     "execution_count": 35,
     "metadata": {},
     "output_type": "execute_result"
    }
   ],
   "source": [
    "data_generator(normalGlob, abNormalGlob, 2)"
   ]
  },
  {
   "cell_type": "code",
   "execution_count": 36,
   "metadata": {},
   "outputs": [],
   "source": [
    "img_height = 256\n",
    "img_width = 384\n",
    "\n",
    "# build the VGG16 network\n",
    "model = applications.VGG16(weights='imagenet', include_top=False, input_shape=(img_height, img_width, 3))"
   ]
  },
  {
   "cell_type": "code",
   "execution_count": 37,
   "metadata": {},
   "outputs": [],
   "source": [
    "top_model = Sequential()\n",
    "top_model.add(Flatten(input_shape=model.output_shape[1:]))\n",
    "top_model.add(Dense(256, activation='relu'))\n",
    "top_model.add(Dropout(0.5))\n",
    "top_model.add(Dense(1, activation='sigmoid'))"
   ]
  },
  {
   "cell_type": "code",
   "execution_count": 38,
   "metadata": {},
   "outputs": [],
   "source": [
    "# model.add(top_model) this throws error alternative is below\n",
    "\n",
    "new_model = Sequential() #new model\n",
    "for layer in model.layers:\n",
    "    new_model.add(layer)\n",
    "\n",
    "new_model.add(top_model) # now this works"
   ]
  },
  {
   "cell_type": "code",
   "execution_count": 39,
   "metadata": {},
   "outputs": [
    {
     "name": "stdout",
     "output_type": "stream",
     "text": [
      "Model loaded.\n",
      "Model: \"sequential_4\"\n",
      "_________________________________________________________________\n",
      "Layer (type)                 Output Shape              Param #   \n",
      "=================================================================\n",
      "block1_conv1 (Conv2D)        (None, 256, 384, 64)      1792      \n",
      "_________________________________________________________________\n",
      "block1_conv2 (Conv2D)        (None, 256, 384, 64)      36928     \n",
      "_________________________________________________________________\n",
      "block1_pool (MaxPooling2D)   (None, 128, 192, 64)      0         \n",
      "_________________________________________________________________\n",
      "block2_conv1 (Conv2D)        (None, 128, 192, 128)     73856     \n",
      "_________________________________________________________________\n",
      "block2_conv2 (Conv2D)        (None, 128, 192, 128)     147584    \n",
      "_________________________________________________________________\n",
      "block2_pool (MaxPooling2D)   (None, 64, 96, 128)       0         \n",
      "_________________________________________________________________\n",
      "block3_conv1 (Conv2D)        (None, 64, 96, 256)       295168    \n",
      "_________________________________________________________________\n",
      "block3_conv2 (Conv2D)        (None, 64, 96, 256)       590080    \n",
      "_________________________________________________________________\n",
      "block3_conv3 (Conv2D)        (None, 64, 96, 256)       590080    \n",
      "_________________________________________________________________\n",
      "block3_pool (MaxPooling2D)   (None, 32, 48, 256)       0         \n",
      "_________________________________________________________________\n",
      "block4_conv1 (Conv2D)        (None, 32, 48, 512)       1180160   \n",
      "_________________________________________________________________\n",
      "block4_conv2 (Conv2D)        (None, 32, 48, 512)       2359808   \n",
      "_________________________________________________________________\n",
      "block4_conv3 (Conv2D)        (None, 32, 48, 512)       2359808   \n",
      "_________________________________________________________________\n",
      "block4_pool (MaxPooling2D)   (None, 16, 24, 512)       0         \n",
      "_________________________________________________________________\n",
      "block5_conv1 (Conv2D)        (None, 16, 24, 512)       2359808   \n",
      "_________________________________________________________________\n",
      "block5_conv2 (Conv2D)        (None, 16, 24, 512)       2359808   \n",
      "_________________________________________________________________\n",
      "block5_conv3 (Conv2D)        (None, 16, 24, 512)       2359808   \n",
      "_________________________________________________________________\n",
      "block5_pool (MaxPooling2D)   (None, 8, 12, 512)        0         \n",
      "_________________________________________________________________\n",
      "sequential_3 (Sequential)    (None, 1)                 12583425  \n",
      "=================================================================\n",
      "Total params: 27,298,113\n",
      "Trainable params: 17,303,041\n",
      "Non-trainable params: 9,995,072\n",
      "_________________________________________________________________\n",
      "None\n"
     ]
    }
   ],
   "source": [
    "for layer in new_model.layers[:15]:\n",
    "    layer.trainable = False\n",
    "\n",
    "print('Model loaded.')\n",
    "\n",
    "print(new_model.summary())"
   ]
  },
  {
   "cell_type": "code",
   "execution_count": 40,
   "metadata": {},
   "outputs": [],
   "source": [
    "# model_aug.load_weights('99 % accurate model.h5')\n",
    "# compile the model with a SGD/momentum optimizer\n",
    "# and a very slow learning rate.\n",
    "new_model.compile(loss='binary_crossentropy',\n",
    "              optimizer=optimizers.SGD(lr=1e-4, momentum=0.9),\n",
    "              metrics=['accuracy'])\n"
   ]
  },
  {
   "cell_type": "code",
   "execution_count": 41,
   "metadata": {},
   "outputs": [],
   "source": [
    "from keras.callbacks import ModelCheckpoint, EarlyStopping\n",
    "from keras.callbacks import LearningRateScheduler\n",
    "batch_size = 32\n",
    "num_epochs = 100\n",
    "# input_shape = (224, 224, 3)\n",
    "validation_split = .2\n",
    "verbose = 1\n",
    "patience = 50\n",
    "\n",
    "def scheduler(epoch):\n",
    "    if epoch < 10:\n",
    "        return 0.001\n",
    "    else:\n",
    "        return 0.001 * (0.1 ** int(epoch/10))\n",
    "checkpoint = ModelCheckpoint(filepath='vgg.h5',\n",
    "                             monitor='val_acc', verbose=1, save_best_only=False, save_weights_only=False, mode='auto',\n",
    "                             period=2)\n",
    "\n",
    "early = EarlyStopping(monitor='val_acc', min_delta=0, patience=20, verbose=1, mode='auto')\n",
    "callback = LearningRateScheduler(scheduler)"
   ]
  },
  {
   "cell_type": "code",
   "execution_count": 42,
   "metadata": {},
   "outputs": [],
   "source": [
    "# hist = new_model.fit_generator(steps_per_epoch=num_epochs // batch_size,generator=data_generator(normalGlob, abNormalGlob, batch_size)\n",
    "#                            , validation_data=data_generator(normalGlob, abNormalGlob, 12)\n",
    "#                            , validation_steps=num_epochs // batch_size,epochs=num_epochs,callbacks=[callback, checkpoint, early])"
   ]
  },
  {
   "cell_type": "code",
   "execution_count": null,
   "metadata": {},
   "outputs": [
    {
     "name": "stdout",
     "output_type": "stream",
     "text": [
      "Epoch 1/7\n",
      " 160/1231 [==>...........................] - ETA: 55:04 - loss: 0.6058 - accuracy: 0.8562"
     ]
    }
   ],
   "source": [
    "new_model.fit(x_train, y_train,\n",
    "          epochs=7,\n",
    "          batch_size=5)"
   ]
  },
  {
   "cell_type": "code",
   "execution_count": null,
   "metadata": {},
   "outputs": [],
   "source": [
    "\n",
    "new_model.evaluate(x_test, y_test, verbose=0)\n",
    "\n",
    "y_pred = new_model.predict_classes(x_test)\n",
    "\n",
    "print(confusion_matrix(y_test, y_pred))\n",
    "new_model.save(filepath='ddsm_model.h5')"
   ]
  },
  {
   "cell_type": "code",
   "execution_count": null,
   "metadata": {},
   "outputs": [],
   "source": []
  },
  {
   "cell_type": "code",
   "execution_count": null,
   "metadata": {},
   "outputs": [],
   "source": []
  }
 ],
 "metadata": {
  "kernelspec": {
   "display_name": "Python 3",
   "language": "python",
   "name": "python3"
  },
  "language_info": {
   "codemirror_mode": {
    "name": "ipython",
    "version": 3
   },
   "file_extension": ".py",
   "mimetype": "text/x-python",
   "name": "python",
   "nbconvert_exporter": "python",
   "pygments_lexer": "ipython3",
   "version": "3.5.2"
  }
 },
 "nbformat": 4,
 "nbformat_minor": 4
}
