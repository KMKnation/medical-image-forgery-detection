{
 "cells": [
  {
   "cell_type": "code",
   "execution_count": 1,
   "metadata": {},
   "outputs": [
    {
     "name": "stderr",
     "output_type": "stream",
     "text": [
      "/usr/local/lib/python3.5/dist-packages/tensorflow/python/framework/dtypes.py:526: FutureWarning: Passing (type, 1) or '1type' as a synonym of type is deprecated; in a future version of numpy, it will be understood as (type, (1,)) / '(1,)type'.\n",
      "  _np_qint8 = np.dtype([(\"qint8\", np.int8, 1)])\n",
      "/usr/local/lib/python3.5/dist-packages/tensorflow/python/framework/dtypes.py:527: FutureWarning: Passing (type, 1) or '1type' as a synonym of type is deprecated; in a future version of numpy, it will be understood as (type, (1,)) / '(1,)type'.\n",
      "  _np_quint8 = np.dtype([(\"quint8\", np.uint8, 1)])\n",
      "/usr/local/lib/python3.5/dist-packages/tensorflow/python/framework/dtypes.py:528: FutureWarning: Passing (type, 1) or '1type' as a synonym of type is deprecated; in a future version of numpy, it will be understood as (type, (1,)) / '(1,)type'.\n",
      "  _np_qint16 = np.dtype([(\"qint16\", np.int16, 1)])\n",
      "/usr/local/lib/python3.5/dist-packages/tensorflow/python/framework/dtypes.py:529: FutureWarning: Passing (type, 1) or '1type' as a synonym of type is deprecated; in a future version of numpy, it will be understood as (type, (1,)) / '(1,)type'.\n",
      "  _np_quint16 = np.dtype([(\"quint16\", np.uint16, 1)])\n",
      "/usr/local/lib/python3.5/dist-packages/tensorflow/python/framework/dtypes.py:530: FutureWarning: Passing (type, 1) or '1type' as a synonym of type is deprecated; in a future version of numpy, it will be understood as (type, (1,)) / '(1,)type'.\n",
      "  _np_qint32 = np.dtype([(\"qint32\", np.int32, 1)])\n",
      "/usr/local/lib/python3.5/dist-packages/tensorflow/python/framework/dtypes.py:535: FutureWarning: Passing (type, 1) or '1type' as a synonym of type is deprecated; in a future version of numpy, it will be understood as (type, (1,)) / '(1,)type'.\n",
      "  np_resource = np.dtype([(\"resource\", np.ubyte, 1)])\n"
     ]
    }
   ],
   "source": [
    "import numpy as np\n",
    "import os\n",
    "from sklearn.model_selection import train_test_split\n",
    "import tensorflow as tf\n",
    "\n",
    "import os\n",
    "import cv2\n",
    "import gc\n",
    "from skimage import color, data, restoration\n",
    "import cv2\n",
    "import numpy as np\n",
    "from skimage.restoration import estimate_sigma\n",
    "from skimage.filters import median\n",
    "import config\n",
    "import imutils\n",
    "import warnings\n",
    "warnings.filterwarnings('ignore')\n"
   ]
  },
  {
   "cell_type": "code",
   "execution_count": 2,
   "metadata": {},
   "outputs": [],
   "source": [
    "def weiner_noise_reduction(img):\n",
    "    # data.astronaut()\n",
    "    img = color.rgb2gray(img)\n",
    "    from scipy.signal import convolve2d\n",
    "    psf = np.ones((5, 5)) / 25\n",
    "    img = convolve2d(img, psf, 'same')\n",
    "    img += 0.1 * img.std() * np.random.standard_normal(img.shape)\n",
    "    deconvolved_img = restoration.wiener(img, psf, 1100)\n",
    "\n",
    "    return deconvolved_img\n",
    "\n",
    "\n",
    "\n",
    "def estimate_noise(img):\n",
    "    # img = cv2.imread(image_path)\n",
    "    return estimate_sigma(img, multichannel=True, average_sigmas=True)\n",
    "\n",
    "\n",
    "def preprocess_image(image):\n",
    "    image = cv2.cvtColor(image, cv2.COLOR_BGR2RGB)\n",
    "\n",
    "    enoise = estimate_noise(image)\n",
    "    noise_free_image = weiner_noise_reduction(image)\n",
    "    gray = cv2.cvtColor(image, cv2.COLOR_RGB2GRAY)\n",
    "    fingerprint = gray - noise_free_image\n",
    "    fingerprint = fingerprint / 255\n",
    "    filtered_img = median(fingerprint, selem=None, out=None, mask=None, shift_x=False,\n",
    "                          shift_y=False, mode='nearest', cval=0.0, behavior='rank')\n",
    "    colored = cv2.cvtColor(filtered_img, cv2.COLOR_GRAY2BGR)\n",
    "    # print('-----------------')\n",
    "    # cv2.imshow('filtered_image', filtered_img)\n",
    "    # colored = cv2.cvtColor(filtered_img, cv2.COLOR_GRAY2BGR)\n",
    "    # print(colored)\n",
    "    # cv2.imshow('colored', colored)\n",
    "    return colored\n"
   ]
  },
  {
   "cell_type": "code",
   "execution_count": 3,
   "metadata": {},
   "outputs": [
    {
     "name": "stderr",
     "output_type": "stream",
     "text": [
      "Using TensorFlow backend.\n"
     ]
    }
   ],
   "source": [
    "import keras\n",
    "from keras import Model, Sequential, optimizers, applications\n",
    "from keras.applications import ResNet50\n",
    "from keras.layers import GlobalAveragePooling2D, Dropout, Dense, Flatten\n",
    "from keras_applications import resnet50\n",
    "from keras import backend as K\n",
    "import matplotlib.pyplot as plt\n",
    "import numpy as np\n",
    "from sklearn.metrics import confusion_matrix\n",
    "from sklearn.model_selection import train_test_split\n",
    "import config"
   ]
  },
  {
   "cell_type": "code",
   "execution_count": 4,
   "metadata": {},
   "outputs": [],
   "source": [
    "DDSM_DATASET = 'CDDSM/figment.csee.usf.edu/pub/DDSM/cases'"
   ]
  },
  {
   "cell_type": "code",
   "execution_count": 5,
   "metadata": {},
   "outputs": [],
   "source": [
    "NORMAL = os.path.join(DDSM_DATASET, 'normals')\n",
    "ABNORMAL = os.path.join(DDSM_DATASET, 'cancers')"
   ]
  },
  {
   "cell_type": "code",
   "execution_count": 6,
   "metadata": {},
   "outputs": [],
   "source": [
    "import glob\n",
    "import random\n",
    "normalGlob = glob.glob(NORMAL+\"/*/*/*.jpg\")\n",
    "abNormalGlob = glob.glob(ABNORMAL+\"/*/*/*.jpg\")\n"
   ]
  },
  {
   "cell_type": "code",
   "execution_count": 7,
   "metadata": {},
   "outputs": [
    {
     "data": {
      "text/plain": [
       "['CDDSM/figment.csee.usf.edu/pub/DDSM/cases/normals/normal_01/case0131/A_0131_1.LEFT_MLO.jpg',\n",
       " 'CDDSM/figment.csee.usf.edu/pub/DDSM/cases/normals/normal_01/case0131/A_0131_1.LEFT_CC.jpg']"
      ]
     },
     "execution_count": 7,
     "metadata": {},
     "output_type": "execute_result"
    }
   ],
   "source": [
    "normalGlob[:2]"
   ]
  },
  {
   "cell_type": "code",
   "execution_count": 20,
   "metadata": {},
   "outputs": [],
   "source": [
    "def data_generator(normalGlob, abNormalGlob, BATCH_SIZE):\n",
    "    while True:\n",
    "        images = []\n",
    "        labels = []\n",
    "        img_height = 256\n",
    "        img_width = 384\n",
    "        random.shuffle(normalGlob)\n",
    "        random.shuffle(abNormalGlob)\n",
    "\n",
    "        if BATCH_SIZE == None:\n",
    "            BATCH_SIZE = 32\n",
    "\n",
    "        NORMAL_RATIO = int(BATCH_SIZE / 2)\n",
    "        ABNORMAL_RATIO = int(BATCH_SIZE - NORMAL_RATIO)\n",
    "\n",
    "        for imagepath in normalGlob[:NORMAL_RATIO]:\n",
    "            image = cv2.imread(imagepath)\n",
    "        #     image = preprocess_image(image)\n",
    "            image = cv2.resize(image, (img_width, img_height))\n",
    "            image = image / 255\n",
    "            images.append(image)\n",
    "            labels.append(0)\n",
    "\n",
    "        for imagepath in normalGlob[:ABNORMAL_RATIO]:\n",
    "            image = cv2.imread(imagepath)\n",
    "        #     image = preprocess_image(image)\n",
    "            image = cv2.resize(image, (img_width, img_height))\n",
    "            image = image / 255\n",
    "            images.append(image)\n",
    "            labels.append(1)\n",
    "\n",
    "        temp = list(zip(images, labels)) \n",
    "        random.shuffle(temp) \n",
    "        images, labels = zip(*temp)\n",
    "    #     print(np.array(images).shape)\n",
    "    #     print(np.array(labels).shape)\n",
    "\n",
    "        yield np.array(images), np.array(labels)"
   ]
  },
  {
   "cell_type": "code",
   "execution_count": 21,
   "metadata": {},
   "outputs": [
    {
     "data": {
      "text/plain": [
       "<generator object data_generator at 0x7f7178234fc0>"
      ]
     },
     "execution_count": 21,
     "metadata": {},
     "output_type": "execute_result"
    }
   ],
   "source": [
    "data_generator(normalGlob, abNormalGlob, 2)"
   ]
  },
  {
   "cell_type": "code",
   "execution_count": 10,
   "metadata": {},
   "outputs": [
    {
     "name": "stdout",
     "output_type": "stream",
     "text": [
      "WARNING:tensorflow:From /usr/local/lib/python3.5/dist-packages/tensorflow/python/ops/resource_variable_ops.py:435: colocate_with (from tensorflow.python.framework.ops) is deprecated and will be removed in a future version.\n",
      "Instructions for updating:\n",
      "Colocations handled automatically by placer.\n"
     ]
    }
   ],
   "source": [
    "img_height = 256\n",
    "img_width = 384\n",
    "\n",
    "# build the VGG16 network\n",
    "model = applications.VGG16(weights='imagenet', include_top=False, input_shape=(img_height, img_width, 3))"
   ]
  },
  {
   "cell_type": "code",
   "execution_count": 11,
   "metadata": {},
   "outputs": [],
   "source": [
    "top_model = Sequential()\n",
    "top_model.add(Flatten(input_shape=model.output_shape[1:]))\n",
    "top_model.add(Dense(256, activation='relu'))\n",
    "top_model.add(Dropout(0.5))\n",
    "top_model.add(Dense(1, activation='sigmoid'))"
   ]
  },
  {
   "cell_type": "code",
   "execution_count": 12,
   "metadata": {},
   "outputs": [],
   "source": [
    "# model.add(top_model) this throws error alternative is below\n",
    "\n",
    "new_model = Sequential() #new model\n",
    "for layer in model.layers:\n",
    "    new_model.add(layer)\n",
    "\n",
    "new_model.add(top_model) # now this works"
   ]
  },
  {
   "cell_type": "code",
   "execution_count": 13,
   "metadata": {},
   "outputs": [],
   "source": [
    "# model_aug.load_weights('99 % accurate model.h5')\n",
    "# compile the model with a SGD/momentum optimizer\n",
    "# and a very slow learning rate.\n",
    "new_model.compile(loss='binary_crossentropy',\n",
    "              optimizer=optimizers.SGD(lr=1e-4, momentum=0.9),\n",
    "              metrics=['accuracy'])\n"
   ]
  },
  {
   "cell_type": "code",
   "execution_count": 18,
   "metadata": {},
   "outputs": [],
   "source": [
    "from keras.callbacks import ModelCheckpoint, EarlyStopping\n",
    "from keras.callbacks import LearningRateScheduler\n",
    "batch_size = 32\n",
    "num_epochs = 100\n",
    "# input_shape = (224, 224, 3)\n",
    "validation_split = .2\n",
    "verbose = 1\n",
    "patience = 50\n",
    "\n",
    "def scheduler(epoch):\n",
    "    if epoch < 10:\n",
    "        return 0.001\n",
    "    else:\n",
    "        return 0.001 * (0.1 ** int(epoch/10))\n",
    "checkpoint = ModelCheckpoint(filepath='vgg.h5',\n",
    "                             monitor='val_acc', verbose=1, save_best_only=False, save_weights_only=False, mode='auto',\n",
    "                             period=2)\n",
    "\n",
    "early = EarlyStopping(monitor='val_acc', min_delta=0, patience=20, verbose=1, mode='auto')\n",
    "callback = LearningRateScheduler(scheduler)"
   ]
  },
  {
   "cell_type": "code",
   "execution_count": null,
   "metadata": {},
   "outputs": [
    {
     "name": "stdout",
     "output_type": "stream",
     "text": [
      "Epoch 1/20\n",
      " 4/20 [=====>........................] - ETA: 56:01 - loss: 0.8413 - accuracy: 0.4844  "
     ]
    }
   ],
   "source": [
    "hist = new_model.fit_generator(steps_per_epoch=20,generator=data_generator(normalGlob, abNormalGlob, batch_size)\n",
    "                           , validation_data=data_generator(normalGlob, abNormalGlob, batch_size)\n",
    "                           , validation_steps=40,epochs=20,callbacks=[callback, checkpoint, early])"
   ]
  },
  {
   "cell_type": "code",
   "execution_count": null,
   "metadata": {},
   "outputs": [],
   "source": []
  }
 ],
 "metadata": {
  "kernelspec": {
   "display_name": "Python 3",
   "language": "python",
   "name": "python3"
  },
  "language_info": {
   "codemirror_mode": {
    "name": "ipython",
    "version": 3
   },
   "file_extension": ".py",
   "mimetype": "text/x-python",
   "name": "python",
   "nbconvert_exporter": "python",
   "pygments_lexer": "ipython3",
   "version": "3.5.2"
  }
 },
 "nbformat": 4,
 "nbformat_minor": 4
}
